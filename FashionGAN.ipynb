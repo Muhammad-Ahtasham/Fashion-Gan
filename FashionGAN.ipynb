{
  "nbformat": 4,
  "nbformat_minor": 0,
  "metadata": {
    "colab": {
      "provenance": [],
      "gpuType": "T4",
      "include_colab_link": true
    },
    "kernelspec": {
      "name": "python3",
      "display_name": "Python 3"
    },
    "language_info": {
      "name": "python"
    },
    "accelerator": "GPU"
  },
  "cells": [
    {
      "cell_type": "markdown",
      "metadata": {
        "id": "view-in-github",
        "colab_type": "text"
      },
      "source": [
        "<a href=\"https://colab.research.google.com/github/Muhammad-Ahtasham/Fashion-Gan/blob/master/FashionGAN.ipynb\" target=\"_parent\"><img src=\"https://colab.research.google.com/assets/colab-badge.svg\" alt=\"Open In Colab\"/></a>"
      ]
    },
    {
      "cell_type": "markdown",
      "source": [
        "## **Installing Dependencies**"
      ],
      "metadata": {
        "id": "4f7vkUNEIzzB"
      }
    },
    {
      "cell_type": "code",
      "execution_count": null,
      "metadata": {
        "collapsed": true,
        "id": "K8KB3OROoyts"
      },
      "outputs": [],
      "source": [
        "# !pip install tensorflow matplotlib tensorflow-datasets ipywidgets"
      ]
    },
    {
      "cell_type": "code",
      "source": [
        "# !pip install tensorflow-gpu"
      ],
      "metadata": {
        "collapsed": true,
        "id": "C79GGximpDLW"
      },
      "execution_count": null,
      "outputs": []
    },
    {
      "cell_type": "markdown",
      "source": [
        "## Importing libraries"
      ],
      "metadata": {
        "id": "Vtwnck5aJFbe"
      }
    },
    {
      "cell_type": "code",
      "source": [
        "import tensorflow as tf\n",
        "gpus = tf.config.experimental.list_physical_devices('GPU')\n",
        "for gpu in gpus:\n",
        "  tf.config.experimental.set_memory_growth(gpu, True)"
      ],
      "metadata": {
        "id": "Xm6zNtq2pUPC"
      },
      "execution_count": null,
      "outputs": []
    },
    {
      "cell_type": "code",
      "source": [
        "gpus"
      ],
      "metadata": {
        "colab": {
          "base_uri": "https://localhost:8080/"
        },
        "id": "eo6kyA7pIM-u",
        "outputId": "c6e804c7-57ca-4f92-a5b4-3f25f1a33ded"
      },
      "execution_count": null,
      "outputs": [
        {
          "output_type": "execute_result",
          "data": {
            "text/plain": [
              "[PhysicalDevice(name='/physical_device:GPU:0', device_type='GPU')]"
            ]
          },
          "metadata": {},
          "execution_count": 44
        }
      ]
    },
    {
      "cell_type": "code",
      "source": [
        "import tensorflow_datasets as tfds\n",
        "from matplotlib import pyplot as plt"
      ],
      "metadata": {
        "id": "PCRvRQMUqVh6"
      },
      "execution_count": null,
      "outputs": []
    },
    {
      "cell_type": "code",
      "source": [
        "ds = tfds.load('fashion_mnist', split='train')"
      ],
      "metadata": {
        "id": "N9GF4mhQqgWo"
      },
      "execution_count": null,
      "outputs": []
    },
    {
      "cell_type": "code",
      "source": [
        "ds.as_numpy_iterator().next()['label']"
      ],
      "metadata": {
        "colab": {
          "base_uri": "https://localhost:8080/"
        },
        "id": "4pRRb_RbrSDO",
        "outputId": "88dbc22e-2658-4dc1-b214-e0b34f037b34"
      },
      "execution_count": null,
      "outputs": [
        {
          "output_type": "execute_result",
          "data": {
            "text/plain": [
              "2"
            ]
          },
          "metadata": {},
          "execution_count": 47
        }
      ]
    },
    {
      "cell_type": "markdown",
      "source": [
        "# Visualization"
      ],
      "metadata": {
        "id": "t9Bsx10zJNYs"
      }
    },
    {
      "cell_type": "code",
      "source": [
        "import numpy as np\n",
        "dataiterator = ds.as_numpy_iterator()"
      ],
      "metadata": {
        "id": "FV2VJMh6rShE"
      },
      "execution_count": null,
      "outputs": []
    },
    {
      "cell_type": "code",
      "source": [
        "# dataiterator.next()"
      ],
      "metadata": {
        "id": "tiT7myaYs_JH"
      },
      "execution_count": null,
      "outputs": []
    },
    {
      "cell_type": "code",
      "source": [
        "fig, ax = plt.subplots(ncols=4, nrows=4, figsize=(8,8))\n",
        "index = 0\n",
        "for x in range(4):\n",
        "  for y in range(4):\n",
        "    ax[x,y].imshow(dataiterator.next()['image'])\n",
        "    ax[x,y].title.set_text(dataiterator.next()['label'])"
      ],
      "metadata": {
        "colab": {
          "base_uri": "https://localhost:8080/",
          "height": 699
        },
        "id": "oG-7sKsMs_n2",
        "outputId": "2209c5ed-4cfb-4402-ed50-1ba685a5b4b7"
      },
      "execution_count": null,
      "outputs": [
        {
          "output_type": "display_data",
          "data": {
            "text/plain": [
              "<Figure size 800x800 with 16 Axes>"
            ],
            "image/png": "[encoded data removed]"
          },
          "metadata": {}
        }
      ]
    },
    {
      "cell_type": "code",
      "source": [
        "def scale_image(data):\n",
        "  image = data['image']\n",
        "  return image/255"
      ],
      "metadata": {
        "id": "QKBiKGDzImpf"
      },
      "execution_count": null,
      "outputs": []
    },
    {
      "cell_type": "code",
      "source": [
        "ds = ds.map(scale_image)\n",
        "ds = ds.cache()\n",
        "ds = ds.shuffle(60000)\n",
        "ds = ds.batch(128)\n",
        "ds = ds.prefetch(64)"
      ],
      "metadata": {
        "id": "Ol2a4W-eLY_i"
      },
      "execution_count": null,
      "outputs": []
    },
    {
      "cell_type": "code",
      "source": [
        "ds.as_numpy_iterator().next().shape"
      ],
      "metadata": {
        "colab": {
          "base_uri": "https://localhost:8080/"
        },
        "id": "sKzzGAOrMP-0",
        "outputId": "73081fa4-158f-4e10-f9c1-d1b757a93ace"
      },
      "execution_count": null,
      "outputs": [
        {
          "output_type": "execute_result",
          "data": {
            "text/plain": [
              "(128, 28, 28, 1)"
            ]
          },
          "metadata": {},
          "execution_count": 53
        }
      ]
    },
    {
      "cell_type": "code",
      "source": [
        "from tensorflow.keras.models import Sequential\n",
        "from tensorflow.keras.layers import Conv2D, MaxPooling2D, Dense, Flatten, Reshape, LeakyReLU, Dropout, UpSampling2D"
      ],
      "metadata": {
        "id": "bSuZVoINM4dz"
      },
      "execution_count": null,
      "outputs": []
    },
    {
      "cell_type": "code",
      "source": [
        "def build_generator():\n",
        "  model = Sequential()\n",
        "  model.add(Dense(7*7*128, input_dim=128))\n",
        "  model.add(LeakyReLU(0.2))\n",
        "  model.add(Reshape((7,7,128)))\n",
        "\n",
        "  model.add(UpSampling2D())\n",
        "  model.add(Conv2D(128, 5, padding='same'))\n",
        "  model.add(LeakyReLU(0.2))\n",
        "\n",
        "  model.add(UpSampling2D())\n",
        "  model.add(Conv2D(128, 5, padding='same'))\n",
        "  model.add(LeakyReLU(0.2))\n",
        "\n",
        "  model.add(Conv2D(128, 5, padding='same'))\n",
        "  model.add(LeakyReLU(0.2))\n",
        "\n",
        "  model.add(Conv2D(128, 5, padding='same'))\n",
        "  model.add(LeakyReLU(0.2))\n",
        "\n",
        "  model.add(Conv2D(1, 4, activation='sigmoid', padding='same'))\n",
        "\n",
        "  return model"
      ],
      "metadata": {
        "id": "ssj8Ye0YpvEj"
      },
      "execution_count": null,
      "outputs": []
    },
    {
      "cell_type": "code",
      "source": [
        "generator = build_generator()"
      ],
      "metadata": {
        "id": "qMklkNM3qtoH"
      },
      "execution_count": null,
      "outputs": []
    },
    {
      "cell_type": "code",
      "source": [
        "generator.summary()"
      ],
      "metadata": {
        "colab": {
          "base_uri": "https://localhost:8080/"
        },
        "id": "jfJAS5xAqxbO",
        "outputId": "22714b06-0ed9-4ad1-caca-528efb536c60"
      },
      "execution_count": null,
      "outputs": [
        {
          "output_type": "stream",
          "name": "stdout",
          "text": [
            "Model: \"sequential_2\"\n",
            "_________________________________________________________________\n",
            " Layer (type)                Output Shape              Param #   \n",
            "=================================================================\n",
            " dense_2 (Dense)             (None, 6272)              809088    \n",
            "                                                                 \n",
            " leaky_re_lu_9 (LeakyReLU)   (None, 6272)              0         \n",
            "                                                                 \n",
            " reshape_1 (Reshape)         (None, 7, 7, 128)         0         \n",
            "                                                                 \n",
            " up_sampling2d_2 (UpSamplin  (None, 14, 14, 128)       0         \n",
            " g2D)                                                            \n",
            "                                                                 \n",
            " conv2d_9 (Conv2D)           (None, 14, 14, 128)       409728    \n",
            "                                                                 \n",
            " leaky_re_lu_10 (LeakyReLU)  (None, 14, 14, 128)       0         \n",
            "                                                                 \n",
            " up_sampling2d_3 (UpSamplin  (None, 28, 28, 128)       0         \n",
            " g2D)                                                            \n",
            "                                                                 \n",
            " conv2d_10 (Conv2D)          (None, 28, 28, 128)       409728    \n",
            "                                                                 \n",
            " leaky_re_lu_11 (LeakyReLU)  (None, 28, 28, 128)       0         \n",
            "                                                                 \n",
            " conv2d_11 (Conv2D)          (None, 28, 28, 128)       409728    \n",
            "                                                                 \n",
            " leaky_re_lu_12 (LeakyReLU)  (None, 28, 28, 128)       0         \n",
            "                                                                 \n",
            " conv2d_12 (Conv2D)          (None, 28, 28, 128)       409728    \n",
            "                                                                 \n",
            " leaky_re_lu_13 (LeakyReLU)  (None, 28, 28, 128)       0         \n",
            "                                                                 \n",
            " conv2d_13 (Conv2D)          (None, 28, 28, 1)         2049      \n",
            "                                                                 \n",
            "=================================================================\n",
            "Total params: 2450049 (9.35 MB)\n",
            "Trainable params: 2450049 (9.35 MB)\n",
            "Non-trainable params: 0 (0.00 Byte)\n",
            "_________________________________________________________________\n"
          ]
        }
      ]
    },
    {
      "cell_type": "code",
      "source": [
        "img = generator.predict(np.random.randn(4, 128, 1))"
      ],
      "metadata": {
        "id": "SFbwIC7zIJS_",
        "colab": {
          "base_uri": "https://localhost:8080/"
        },
        "outputId": "0399eb08-d9cc-4596-941f-3745ab5c203f"
      },
      "execution_count": null,
      "outputs": [
        {
          "output_type": "stream",
          "name": "stdout",
          "text": [
            "1/1 [==============================] - 0s 96ms/step\n"
          ]
        }
      ]
    },
    {
      "cell_type": "code",
      "source": [
        "fig, ax = plt.subplots(ncols=4, figsize=(8,8))\n",
        "for idx, img in enumerate(img):\n",
        "  ax[idx].imshow(np.squeeze(img))\n",
        "  ax[idx].title.set_text(idx)"
      ],
      "metadata": {
        "colab": {
          "base_uri": "https://localhost:8080/",
          "height": 217
        },
        "id": "SZvOk08ta13J",
        "outputId": "a3966b19-d34e-4611-b0fd-0bd71324c112"
      },
      "execution_count": null,
      "outputs": [
        {
          "output_type": "display_data",
          "data": {
            "text/plain": [
              "<Figure size 800x800 with 4 Axes>"
            ],
            "image/png": "[encoded data removed]"
          },
          "metadata": {}
        }
      ]
    },
    {
      "cell_type": "code",
      "source": [
        "def build_discriminator():\n",
        "  model = Sequential()\n",
        "  model.add(Conv2D(32, 5, input_shape=(28,28,1)))\n",
        "  model.add(LeakyReLU(0.2))\n",
        "  model.add(Dropout(0.4))\n",
        "\n",
        "  model.add(Conv2D(64, 5))\n",
        "  model.add(LeakyReLU(0.2))\n",
        "  model.add(Dropout(0.4))\n",
        "\n",
        "  model.add(Conv2D(128, 5))\n",
        "  model.add(LeakyReLU(0.2))\n",
        "  model.add(Dropout(0.4))\n",
        "\n",
        "  model.add(Conv2D(256, 5))\n",
        "  model.add(LeakyReLU(0.2))\n",
        "  model.add(Dropout(0.4))\n",
        "\n",
        "  model.add(Flatten())\n",
        "  model.add(Dropout(0.4))\n",
        "  model.add(Dense(1, activation='sigmoid'))\n",
        "\n",
        "  return model"
      ],
      "metadata": {
        "id": "yk92jfOYbtVi"
      },
      "execution_count": null,
      "outputs": []
    },
    {
      "cell_type": "code",
      "source": [
        "discriminator = build_discriminator()"
      ],
      "metadata": {
        "id": "A3fIXMD1ckEH"
      },
      "execution_count": null,
      "outputs": []
    },
    {
      "cell_type": "code",
      "source": [
        "discriminator.summary()"
      ],
      "metadata": {
        "colab": {
          "base_uri": "https://localhost:8080/"
        },
        "id": "MlHzkURHco12",
        "outputId": "78c36523-ca10-443d-c5c7-15532ae6ba11"
      },
      "execution_count": null,
      "outputs": [
        {
          "output_type": "stream",
          "name": "stdout",
          "text": [
            "Model: \"sequential_3\"\n",
            "_________________________________________________________________\n",
            " Layer (type)                Output Shape              Param #   \n",
            "=================================================================\n",
            " conv2d_14 (Conv2D)          (None, 24, 24, 32)        832       \n",
            "                                                                 \n",
            " leaky_re_lu_14 (LeakyReLU)  (None, 24, 24, 32)        0         \n",
            "                                                                 \n",
            " dropout_5 (Dropout)         (None, 24, 24, 32)        0         \n",
            "                                                                 \n",
            " conv2d_15 (Conv2D)          (None, 20, 20, 64)        51264     \n",
            "                                                                 \n",
            " leaky_re_lu_15 (LeakyReLU)  (None, 20, 20, 64)        0         \n",
            "                                                                 \n",
            " dropout_6 (Dropout)         (None, 20, 20, 64)        0         \n",
            "                                                                 \n",
            " conv2d_16 (Conv2D)          (None, 16, 16, 128)       204928    \n",
            "                                                                 \n",
            " leaky_re_lu_16 (LeakyReLU)  (None, 16, 16, 128)       0         \n",
            "                                                                 \n",
            " dropout_7 (Dropout)         (None, 16, 16, 128)       0         \n",
            "                                                                 \n",
            " conv2d_17 (Conv2D)          (None, 12, 12, 256)       819456    \n",
            "                                                                 \n",
            " leaky_re_lu_17 (LeakyReLU)  (None, 12, 12, 256)       0         \n",
            "                                                                 \n",
            " dropout_8 (Dropout)         (None, 12, 12, 256)       0         \n",
            "                                                                 \n",
            " flatten_1 (Flatten)         (None, 36864)             0         \n",
            "                                                                 \n",
            " dropout_9 (Dropout)         (None, 36864)             0         \n",
            "                                                                 \n",
            " dense_3 (Dense)             (None, 1)                 36865     \n",
            "                                                                 \n",
            "=================================================================\n",
            "Total params: 1113345 (4.25 MB)\n",
            "Trainable params: 1113345 (4.25 MB)\n",
            "Non-trainable params: 0 (0.00 Byte)\n",
            "_________________________________________________________________\n"
          ]
        }
      ]
    },
    {
      "cell_type": "code",
      "source": [
        "discriminator.predict(np.expand_dims(img, 0))"
      ],
      "metadata": {
        "colab": {
          "base_uri": "https://localhost:8080/"
        },
        "id": "eWdVu4jRcsOj",
        "outputId": "2e614220-0fb3-4a82-811b-f45345a16415"
      },
      "execution_count": null,
      "outputs": [
        {
          "output_type": "stream",
          "name": "stdout",
          "text": [
            "1/1 [==============================] - 0s 143ms/step\n"
          ]
        },
        {
          "output_type": "execute_result",
          "data": {
            "text/plain": [
              "array([[0.5039324]], dtype=float32)"
            ]
          },
          "metadata": {},
          "execution_count": 63
        }
      ]
    },
    {
      "cell_type": "code",
      "source": [
        "from tensorflow.keras.optimizers import Adam\n",
        "from tensorflow.keras.losses import BinaryCrossentropy"
      ],
      "metadata": {
        "id": "aW9HRhboen8i"
      },
      "execution_count": null,
      "outputs": []
    },
    {
      "cell_type": "code",
      "source": [
        "g_opt = Adam(learning_rate=0.0001)\n",
        "d_opt = Adam(learning_rate=0.00001)\n",
        "\n",
        "g_loss = BinaryCrossentropy()\n",
        "d_loss = BinaryCrossentropy()"
      ],
      "metadata": {
        "id": "R59LuvXFe-HM"
      },
      "execution_count": null,
      "outputs": []
    },
    {
      "cell_type": "code",
      "source": [
        "from tensorflow.keras.models import Model"
      ],
      "metadata": {
        "id": "4Tf_S1SxhiLy"
      },
      "execution_count": null,
      "outputs": []
    },
    {
      "cell_type": "code",
      "source": [
        "class FashionGAN(Model):\n",
        "  def __init__(self, generator, discriminator, *args, **kwargs):\n",
        "    super().__init__(*args, **kwargs)\n",
        "    self.generator = generator\n",
        "    self.discriminator = discriminator\n",
        "\n",
        "  def compile(self, g_opt, d_opt, g_loss, d_loss, *args, **kwargs):\n",
        "    super().compile(*args, **kwargs)\n",
        "    self.g_opt = g_opt\n",
        "    self.d_opt = d_opt\n",
        "    self.g_loss = g_loss\n",
        "    self.d_loss = d_loss\n",
        "\n",
        "  def train_step(self, batch):\n",
        "    real_images = batch\n",
        "    fake_images = self.generator(tf.random.normal((128, 128, 1)), training=False)\n",
        "\n",
        "    with tf.GradientTape() as d_tape:\n",
        "      yhat_real = self.discriminator(real_images, training=True)\n",
        "      yhat_fake = self.discriminator(fake_images, training=True)\n",
        "      yhat_realfake = tf.concat([yhat_real, yhat_fake], axis=0)\n",
        "\n",
        "      y_realfake = tf.concat([tf.zeros_like(yhat_real), tf.ones_like(yhat_fake)], axis=0)\n",
        "\n",
        "      noise_real = 0.15*tf.random.uniform(tf.shape(yhat_real))\n",
        "      noise_fake = -0.15*tf.random.uniform(tf.shape(yhat_fake))\n",
        "      y_realfake = tf.concat([noise_real, noise_fake], axis=0)\n",
        "\n",
        "      #calculate the loss\n",
        "      total_d_loss = self.d_loss(y_realfake, yhat_realfake)\n",
        "\n",
        "    dgrad = d_tape.gradient(total_d_loss, self.discriminator.trainable_variables)\n",
        "    self.d_opt.apply_gradients(zip(dgrad, self.discriminator.trainable_variables))\n",
        "\n",
        "    with tf.GradientTape() as g_tape:\n",
        "      gen_images = self.generator(tf.random.normal((128, 128, 1)), training=True)\n",
        "      predicted_labels = self.discriminator(gen_images, training=False)\n",
        "      total_g_loss = self.g_loss(tf.zeros_like(predicted_labels), predicted_labels)\n",
        "\n",
        "    ggrad = g_tape.gradient(total_g_loss, self.generator.trainable_variables)\n",
        "    self.g_opt.apply_gradients(zip(ggrad, self.generator.trainable_variables))\n",
        "\n",
        "    return {'d_loss': total_d_loss, 'g_loss': total_g_loss}\n",
        "\n"
      ],
      "metadata": {
        "id": "tDdK9IwAv7aC"
      },
      "execution_count": null,
      "outputs": []
    },
    {
      "cell_type": "code",
      "source": [
        "fashgan = FashionGAN(generator, discriminator)"
      ],
      "metadata": {
        "id": "T3k4_tlM2PyK"
      },
      "execution_count": null,
      "outputs": []
    },
    {
      "cell_type": "code",
      "source": [
        "fashgan.compile(g_opt, d_opt, g_loss, d_loss)"
      ],
      "metadata": {
        "id": "F6BMIZ672lsV"
      },
      "execution_count": null,
      "outputs": []
    },
    {
      "cell_type": "code",
      "source": [
        "import os\n",
        "from keras.preprocessing.image import array_to_img\n",
        "# from tensorflow.keras.preprocessing import array_to_img\n",
        "from tensorflow.keras.callbacks import Callback"
      ],
      "metadata": {
        "id": "cKfNQwau2s8E"
      },
      "execution_count": null,
      "outputs": []
    },
    {
      "cell_type": "code",
      "source": [
        "class GANMonitor(Callback):\n",
        "  def __init__(self, num_img=3, latent_dim=128):\n",
        "    self.num_img = num_img\n",
        "    self.latent_dim = latent_dim\n",
        "\n",
        "  def on_epoch_end(self, epoch, logs=None):\n",
        "    random_latent_vectors = tf.random.normal(shape=(self.num_img, self.latent_dim, 1))\n",
        "    generated_images = self.model.generator(random_latent_vectors)\n",
        "    generated_images *= 255\n",
        "    generated_images.numpy()\n",
        "\n",
        "    for i in range(self.num_img):\n",
        "      img = array_to_img(generated_images[i])\n",
        "      # img.save(os.path.join('images', f'generated_img_{epoch}_{i}.png'))\n",
        "      img.save(os.path.join(f'generated_img_{epoch}_{i}.png'))"
      ],
      "metadata": {
        "id": "pzjZQo2d27jk"
      },
      "execution_count": null,
      "outputs": []
    },
    {
      "cell_type": "code",
      "source": [
        "hist = fashgan.fit(ds, epochs=50, callbacks=[GANMonitor()]) #2000 recommended"
      ],
      "metadata": {
        "colab": {
          "base_uri": "https://localhost:8080/"
        },
        "id": "dV6xy7ds3mMx",
        "outputId": "cc127169-f23a-4d00-8a6a-54769aa17ac1"
      },
      "execution_count": null,
      "outputs": [
        {
          "output_type": "stream",
          "name": "stdout",
          "text": [
            "Epoch 1/50\n",
            "  6/469 [..............................] - ETA: 1:11 - d_loss: -0.4161 - g_loss: 2.4454e-09"
          ]
        },
        {
          "output_type": "stream",
          "name": "stderr",
          "text": [
            "WARNING:tensorflow:Callback method `on_train_batch_end` is slow compared to the batch time (batch time: 0.0707s vs `on_train_batch_end` time: 0.0844s). Check your callbacks.\n"
          ]
        },
        {
          "output_type": "stream",
          "name": "stdout",
          "text": [
            "469/469 [==============================] - 74s 158ms/step - d_loss: -0.4433 - g_loss: 2.3522e-09\n",
            "Epoch 2/50\n",
            "469/469 [==============================] - 74s 157ms/step - d_loss: -0.4428 - g_loss: 1.8690e-09\n",
            "Epoch 3/50\n",
            "469/469 [==============================] - 74s 157ms/step - d_loss: -0.4423 - g_loss: 1.4216e-09\n",
            "Epoch 4/50\n",
            "469/469 [==============================] - 74s 157ms/step - d_loss: -0.4445 - g_loss: 1.1318e-09\n",
            "Epoch 5/50\n",
            "469/469 [==============================] - 74s 157ms/step - d_loss: -0.4463 - g_loss: 1.0334e-09\n",
            "Epoch 6/50\n",
            "469/469 [==============================] - 74s 157ms/step - d_loss: -0.4451 - g_loss: 8.0867e-10\n",
            "Epoch 7/50\n",
            "469/469 [==============================] - 74s 158ms/step - d_loss: -0.4447 - g_loss: 7.4118e-10\n",
            "Epoch 8/50\n",
            "469/469 [==============================] - 74s 157ms/step - d_loss: -0.4442 - g_loss: 7.5261e-10\n",
            "Epoch 9/50\n",
            "469/469 [==============================] - 74s 157ms/step - d_loss: -0.4453 - g_loss: 6.8496e-10\n",
            "Epoch 10/50\n",
            "469/469 [==============================] - 74s 157ms/step - d_loss: -0.4464 - g_loss: 7.0674e-10\n",
            "Epoch 11/50\n",
            "469/469 [==============================] - 74s 157ms/step - d_loss: -0.4434 - g_loss: 7.6534e-10\n",
            "Epoch 12/50\n",
            "469/469 [==============================] - 74s 157ms/step - d_loss: -0.4417 - g_loss: 7.6713e-10\n",
            "Epoch 13/50\n",
            "469/469 [==============================] - 74s 157ms/step - d_loss: -0.4435 - g_loss: 8.0029e-10\n",
            "Epoch 14/50\n",
            "469/469 [==============================] - 74s 157ms/step - d_loss: -0.4466 - g_loss: 8.7017e-10\n",
            "Epoch 15/50\n",
            "469/469 [==============================] - 74s 157ms/step - d_loss: -0.4450 - g_loss: 1.0928e-09\n",
            "Epoch 16/50\n",
            "469/469 [==============================] - 74s 157ms/step - d_loss: -0.4485 - g_loss: 1.2378e-09\n",
            "Epoch 17/50\n",
            "469/469 [==============================] - 74s 158ms/step - d_loss: -0.4459 - g_loss: 1.3804e-09\n",
            "Epoch 18/50\n",
            "469/469 [==============================] - 74s 157ms/step - d_loss: -0.4472 - g_loss: 1.4185e-09\n",
            "Epoch 19/50\n",
            "469/469 [==============================] - 74s 157ms/step - d_loss: -0.4459 - g_loss: 1.5034e-09\n",
            "Epoch 20/50\n",
            "469/469 [==============================] - 74s 157ms/step - d_loss: -0.4479 - g_loss: 1.4203e-09\n",
            "Epoch 21/50\n",
            "469/469 [==============================] - 74s 157ms/step - d_loss: -0.4459 - g_loss: 1.7571e-09\n",
            "Epoch 22/50\n",
            "469/469 [==============================] - 74s 157ms/step - d_loss: -0.4449 - g_loss: 1.5389e-09\n",
            "Epoch 23/50\n",
            "469/469 [==============================] - 74s 157ms/step - d_loss: -0.4462 - g_loss: 2.0112e-09\n",
            "Epoch 24/50\n",
            "469/469 [==============================] - 74s 157ms/step - d_loss: -0.4461 - g_loss: 2.0850e-09\n",
            "Epoch 25/50\n",
            "469/469 [==============================] - 74s 157ms/step - d_loss: -0.4413 - g_loss: 2.2541e-09\n",
            "Epoch 26/50\n",
            "469/469 [==============================] - 74s 157ms/step - d_loss: -0.4455 - g_loss: 2.0894e-09\n",
            "Epoch 27/50\n",
            "469/469 [==============================] - 74s 157ms/step - d_loss: -0.4473 - g_loss: 2.4809e-09\n",
            "Epoch 28/50\n",
            "469/469 [==============================] - 74s 157ms/step - d_loss: -0.4447 - g_loss: 2.6032e-09\n",
            "Epoch 29/50\n",
            "469/469 [==============================] - 74s 158ms/step - d_loss: -0.4458 - g_loss: 2.2345e-09\n",
            "Epoch 30/50\n",
            "469/469 [==============================] - 74s 158ms/step - d_loss: -0.4449 - g_loss: 2.2079e-09\n",
            "Epoch 31/50\n",
            "469/469 [==============================] - 74s 157ms/step - d_loss: -0.4465 - g_loss: 2.7709e-09\n",
            "Epoch 32/50\n",
            "469/469 [==============================] - 74s 157ms/step - d_loss: -0.4446 - g_loss: 2.1959e-09\n",
            "Epoch 33/50\n",
            "469/469 [==============================] - 74s 158ms/step - d_loss: -0.4456 - g_loss: 2.4395e-09\n",
            "Epoch 34/50\n",
            "469/469 [==============================] - 74s 158ms/step - d_loss: -0.4469 - g_loss: 2.1513e-09\n",
            "Epoch 35/50\n",
            "469/469 [==============================] - 74s 157ms/step - d_loss: -0.4445 - g_loss: 2.2878e-09\n",
            "Epoch 36/50\n",
            "469/469 [==============================] - 74s 157ms/step - d_loss: -0.4458 - g_loss: 1.7486e-09\n",
            "Epoch 37/50\n",
            "469/469 [==============================] - 74s 157ms/step - d_loss: -0.4447 - g_loss: 2.2044e-09\n",
            "Epoch 38/50\n",
            "469/469 [==============================] - 74s 158ms/step - d_loss: -0.4470 - g_loss: 2.0723e-09\n",
            "Epoch 39/50\n",
            "469/469 [==============================] - 74s 157ms/step - d_loss: -0.4439 - g_loss: 2.2834e-09\n",
            "Epoch 40/50\n",
            "469/469 [==============================] - 74s 157ms/step - d_loss: -0.4461 - g_loss: 2.1354e-09\n",
            "Epoch 41/50\n",
            "469/469 [==============================] - 74s 157ms/step - d_loss: -0.4450 - g_loss: 2.2624e-09\n",
            "Epoch 42/50\n",
            "469/469 [==============================] - 74s 157ms/step - d_loss: -0.4469 - g_loss: 2.1907e-09\n",
            "Epoch 43/50\n",
            "469/469 [==============================] - 74s 158ms/step - d_loss: -0.4442 - g_loss: 2.3119e-09\n",
            "Epoch 44/50\n",
            "469/469 [==============================] - 74s 158ms/step - d_loss: -0.4447 - g_loss: 2.7841e-09\n",
            "Epoch 45/50\n",
            "469/469 [==============================] - 74s 158ms/step - d_loss: -0.4441 - g_loss: 2.2042e-09\n",
            "Epoch 46/50\n",
            "469/469 [==============================] - 74s 157ms/step - d_loss: -0.4450 - g_loss: 2.7137e-09\n",
            "Epoch 47/50\n",
            "469/469 [==============================] - 74s 157ms/step - d_loss: -0.4439 - g_loss: 2.1360e-09\n",
            "Epoch 48/50\n",
            "469/469 [==============================] - 74s 157ms/step - d_loss: -0.4462 - g_loss: 1.9631e-09\n",
            "Epoch 49/50\n",
            "469/469 [==============================] - 74s 157ms/step - d_loss: -0.4459 - g_loss: 2.1776e-09\n",
            "Epoch 50/50\n",
            "469/469 [==============================] - 74s 157ms/step - d_loss: -0.4446 - g_loss: 2.6035e-09\n"
          ]
        }
      ]
    },
    {
      "cell_type": "code",
      "source": [
        "plt.suptitle('Loss')\n",
        "plt.plot(hist.history['d_loss'], label='d_loss')\n",
        "plt.plot(hist.history['g_loss'], label='g_loss')\n",
        "plt.legend()\n",
        "plt.show()"
      ],
      "metadata": {
        "colab": {
          "base_uri": "https://localhost:8080/",
          "height": 478
        },
        "id": "HPLlf_El30tU",
        "outputId": "9ea8b154-6282-430d-fdf2-686e20e2945c"
      },
      "execution_count": null,
      "outputs": [
        {
          "output_type": "display_data",
          "data": {
            "text/plain": [
              "<Figure size 640x480 with 1 Axes>"
            ],
            "image/png": "[encoded data removed]"
          },
          "metadata": {}
        }
      ]
    },
    {
      "cell_type": "code",
      "source": [
        "# generator.load_weights(os.path.join('archive', 'generatormodel.h5'))\n",
        "generator.load_weights('generatormodel.h5')"
      ],
      "metadata": {
        "id": "V1C8bT8H7Pp-"
      },
      "execution_count": null,
      "outputs": []
    },
    {
      "cell_type": "code",
      "source": [
        "imgs = generator.predict(tf.random.normal((16, 128, 1)))"
      ],
      "metadata": {
        "colab": {
          "base_uri": "https://localhost:8080/"
        },
        "id": "aFDYZ0526DIj",
        "outputId": "1d358888-2cd7-4279-f24d-4c87ebb564c4"
      },
      "execution_count": null,
      "outputs": [
        {
          "output_type": "stream",
          "name": "stdout",
          "text": [
            "1/1 [==============================] - 0s 18ms/step\n"
          ]
        }
      ]
    },
    {
      "cell_type": "code",
      "source": [
        "fig, ax = plt.subplots(ncols=4, nrows=4, figsize=(8,8))\n",
        "for r in range(4):\n",
        "  for c in range(4):\n",
        "    ax[r,c].imshow(imgs[(r+1)*(c+1)-1])\n",
        "plt.show()"
      ],
      "metadata": {
        "colab": {
          "base_uri": "https://localhost:8080/",
          "height": 679
        },
        "id": "ABNPmjLH6wET",
        "outputId": "ab6ff082-bbc4-4a58-daa6-b9e21cf252e2"
      },
      "execution_count": null,
      "outputs": [
        {
          "output_type": "display_data",
          "data": {
            "text/plain": [
              "<Figure size 800x800 with 16 Axes>"
            ],
            "image/png": "[encoded data removed]"
          },
          "metadata": {}
        }
      ]
    },
    {
      "cell_type": "code",
      "source": [
        "generator.save('generatormodel.h5')\n",
        "discriminator.save('discriminatormodel.h5')"
      ],
      "metadata": {
        "colab": {
          "base_uri": "https://localhost:8080/"
        },
        "id": "23iFilvm64_U",
        "outputId": "80c1b331-82f8-4f9b-aacf-17ed88becc93"
      },
      "execution_count": null,
      "outputs": [
        {
          "output_type": "stream",
          "name": "stderr",
          "text": [
            "WARNING:tensorflow:Compiled the loaded model, but the compiled metrics have yet to be built. `model.compile_metrics` will be empty until you train or evaluate the model.\n",
            "WARNING:tensorflow:Compiled the loaded model, but the compiled metrics have yet to be built. `model.compile_metrics` will be empty until you train or evaluate the model.\n"
          ]
        }
      ]
    },
    {
      "cell_type": "code",
      "source": [],
      "metadata": {
        "id": "VXs3Z9HV72Le"
      },
      "execution_count": null,
      "outputs": []
    }
  ]
}